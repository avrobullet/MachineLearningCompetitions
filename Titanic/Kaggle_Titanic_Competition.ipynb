{
 "cells": [
  {
   "cell_type": "markdown",
   "metadata": {},
   "source": [
    "# Titanic: Machine Learning from Disaster"
   ]
  },
  {
   "cell_type": "markdown",
   "metadata": {},
   "source": [
    "### Description:\n",
    "\n",
    "This is the legendary Titanic ML competition – the best, first challenge for you to dive into ML competitions and familiarize myself with how the Kaggle platform works.\n",
    "\n",
    "This competition is simple albeit morbid in terms of its topic: I will attempt to use machine learning to create a model that predicts which passengers survived the Titanic shipwreck."
   ]
  },
  {
   "cell_type": "markdown",
   "metadata": {},
   "source": [
    "### Step 1: Data Acquisition\n",
    "\n",
    "In this competition, two similar datasets that include passenger information like name, age, gender, socio-economic class, etc. will be included: one dataset is titled `train.csv` and the other is titled `test.csv`.\n",
    "\n",
    "The `train.csv` will contain the details of a subset of the passengers on board (891 to be exact) and importantly, will reveal whether they survived or not, also known as the “ground truth”.\n",
    "\n",
    "The `test.csv` dataset contains similar information but does not disclose the “ground truth” for each passenger. It’s your job to predict these outcomes.\n",
    "\n",
    "#### The main objective here is to use the patterns found in the train.csv data to predict whether the other 418 passengers on board (found in test.csv) will survive."
   ]
  },
  {
   "cell_type": "code",
   "execution_count": 282,
   "metadata": {},
   "outputs": [],
   "source": [
    "# Initialize variables\n",
    "import os\n",
    "import pandas as pd\n",
    "import numpy as np\n",
    "import matplotlib.pyplot as plt\n",
    "import seaborn as sns; sns.set()\n",
    "\n",
    "from sklearn.impute import SimpleImputer\n",
    "from sklearn.preprocessing import LabelEncoder\n",
    "from sklearn.model_selection import train_test_split, cross_val_score\n",
    "from sklearn.preprocessing import StandardScaler\n",
    "from sklearn.naive_bayes import GaussianNB\n",
    "from sklearn.svm import SVC\n",
    "from sklearn.metrics import accuracy_score\n",
    "from sklearn.ensemble import RandomForestClassifier\n",
    "\n",
    "# Get training and testing data\n",
    "train_df = pd.DataFrame(pd.read_csv('train.csv'))\n",
    "test_df = pd.DataFrame(pd.read_csv('test.csv'))\n",
    "submission_file = pd.read_csv('gender_submission.csv')"
   ]
  },
  {
   "cell_type": "markdown",
   "metadata": {},
   "source": [
    "### Step 2: Hypothesis Statement\n",
    "\n",
    "In order to make connections between the training data and testing data, we must be able to determine which of the variables are needed to make such a connection plausible. The independent variable in this case would be the number of deaths following the disaster, but which of the other variables are likely to contribute towards those deaths?\n",
    "\n",
    "Here are the variables to consider:\n",
    "* PassengerId: a unique ID given to each and every passenger (some scalar number: quantitative)\n",
    "* Survived: passengers that have survived (either 0 or 1: qualitative)\n",
    "* Pclass: class in which each passenger have registered themselves through their ticket purchases (either 1,2, or 3: qualitative)\n",
    "* Name: a passenger's name (some string of characters: qualitative)\n",
    "* Sex: a passenger's biological orientation (either female or male: qualitative)\n",
    "* Age: a passenger's biological age (some scalar number: quantitative)\n",
    "* SibSp: if a passenger has a sibling(s) and/or a spouse (some scalar: quantitative)\n",
    "* Parch: if a passenger has a parent(s) and/or a child(ren) (some scalar: quantitative)\n",
    "* Ticket: a unique ticket number assigned to each passenger (some scalar: qualitative)\n",
    "* Fare: the price of the ticket bought by a passenger (either)\n",
    "* Cabin: a cabin designated by class corresponding to the ticket purchased by a passenger (some scalar number: quantiative)\n",
    "* Embarked: the port which each passenger has embarkde from (either C, Q, or S: qualitative)\n",
    "\n",
    "Based on the values listed above, I believe that age, sex, passenger class, and being in certain cabins will contributing factors towards the survivability of these unfortunate passengers. I've selected these variables solely based on a line in the movie, 'The Titanic', where the officers agreed to let the women and children go first. \n",
    "\n",
    "As such, to make things easier for myself, I will create a null hypothesis that determines if there is a meaningful difference across each and every attributes. Therefore :\n",
    " **there will be no difference deaths across passengers in terms of age, sex, passenger class, or cabin level.**\n"
   ]
  },
  {
   "cell_type": "code",
   "execution_count": 283,
   "metadata": {},
   "outputs": [
    {
     "name": "stdout",
     "output_type": "stream",
     "text": [
      "% Males that lived: 32.0;\n",
      "% Males that died: 85.0;\n",
      "% Females that lived: 68.0;\n",
      "% Females that died: 15.0\n"
     ]
    },
    {
     "data": {
      "text/plain": [
       "<matplotlib.axes._subplots.AxesSubplot at 0x1c27e65d90>"
      ]
     },
     "execution_count": 283,
     "metadata": {},
     "output_type": "execute_result"
    },
    {
     "data": {
      "image/png": "[encoded data removed]",
      "text/plain": [
       "<Figure size 432x288 with 1 Axes>"
      ]
     },
     "metadata": {},
     "output_type": "display_data"
    }
   ],
   "source": [
    "# List of passengers who lived and died\n",
    "lived_df = train_df[train_df['Survived'] == 1]\n",
    "died_df = train_df[train_df['Survived'] == 0]\n",
    "\n",
    "# Determine if being of a specific sex could be a result of being alive or dead\n",
    "male_lived = round(lived_df[lived_df['Sex'] == 'male']['Sex'].count()/lived_df['Sex'].count() * 100)\n",
    "male_died = round(died_df[died_df['Sex'] == 'male']['Sex'].count()/died_df['Sex'].count() * 100)\n",
    "female_lived = 100 - male_lived\n",
    "female_died = 100 - male_died\n",
    "\n",
    "# Print results\n",
    "print('% Males that lived: {};\\n% Males that died: {};\\n% Females that lived: {};\\n% Females that died: {}'.format(male_lived,male_died,female_lived,female_died))\n",
    "\n",
    "# Graph results\n",
    "sns.countplot(x='Survived', hue='Sex', data=train_df)"
   ]
  },
  {
   "cell_type": "code",
   "execution_count": 284,
   "metadata": {},
   "outputs": [
    {
     "name": "stdout",
     "output_type": "stream",
     "text": [
      "% Upper class that lived: 40.0;\n",
      "% Middle class that lived: 25.0;\n",
      "% Lower class that lived: 35.0\n",
      "\n",
      "% Upper class that died: 15.0;\n",
      "% Middle class that died: 18.0;\n",
      "% Lower class that died: 68.0\n"
     ]
    },
    {
     "data": {
      "text/plain": [
       "<matplotlib.axes._subplots.AxesSubplot at 0x1c24d975d0>"
      ]
     },
     "execution_count": 284,
     "metadata": {},
     "output_type": "execute_result"
    },
    {
     "data": {
      "image/png": "[encoded data removed]",
      "text/plain": [
       "<Figure size 432x288 with 1 Axes>"
      ]
     },
     "metadata": {},
     "output_type": "display_data"
    }
   ],
   "source": [
    "# Determine if being of a specific class could be a result of being alive or dead\n",
    "upper_lived = round(lived_df[lived_df['Pclass'] == 1]['Pclass'].count()/lived_df['Pclass'].count() * 100)\n",
    "middle_lived = round(lived_df[lived_df['Pclass'] == 2]['Pclass'].count()/lived_df['Pclass'].count() * 100)\n",
    "lower_lived = round(lived_df[lived_df['Pclass'] == 3]['Pclass'].count()/lived_df['Pclass'].count() * 100)\n",
    "upper_died = round(died_df[died_df['Pclass'] == 1]['Pclass'].count()/died_df['Pclass'].count() * 100)\n",
    "middle_died = round(died_df[died_df['Pclass'] == 2]['Pclass'].count()/died_df['Pclass'].count() * 100)\n",
    "lower_died = round(died_df[died_df['Pclass'] == 3]['Pclass'].count()/died_df['Pclass'].count() * 100)\n",
    "\n",
    "# Print results\n",
    "print('% Upper class that lived: {};\\n% Middle class that lived: {};\\n% Lower class that lived: {}\\n'.format(upper_lived,middle_lived,lower_lived))\n",
    "print('% Upper class that died: {};\\n% Middle class that died: {};\\n% Lower class that died: {}'.format(upper_died,middle_died,lower_died))\n",
    "\n",
    "# Graph results\n",
    "sns.countplot(x='Survived', hue='Pclass', data=train_df)\n"
   ]
  },
  {
   "cell_type": "code",
   "execution_count": 285,
   "metadata": {},
   "outputs": [
    {
     "name": "stdout",
     "output_type": "stream",
     "text": [
      "% Children that lived: 14.0;\n",
      "% Adolescents that lived: 7.0;\n",
      "% Adults that lived: 79.0;\n",
      "% Elderly that lived: 0.0\n",
      "\n",
      "% Children that died: 7.0;\n",
      "% Adolescents that died: 5.0;\n",
      "% Adults that died: 85.0;\n",
      "% Elderly that died: 2.0\n",
      "\n"
     ]
    },
    {
     "name": "stderr",
     "output_type": "stream",
     "text": [
      "/opt/anaconda3/lib/python3.7/site-packages/numpy/lib/histograms.py:829: RuntimeWarning: invalid value encountered in greater_equal\n",
      "  keep = (tmp_a >= first_edge)\n",
      "/opt/anaconda3/lib/python3.7/site-packages/numpy/lib/histograms.py:830: RuntimeWarning: invalid value encountered in less_equal\n",
      "  keep &= (tmp_a <= last_edge)\n",
      "/opt/anaconda3/lib/python3.7/site-packages/statsmodels/nonparametric/kde.py:447: RuntimeWarning: invalid value encountered in greater\n",
      "  X = X[np.logical_and(X > clip[0], X < clip[1])] # won't work for two columns.\n",
      "/opt/anaconda3/lib/python3.7/site-packages/statsmodels/nonparametric/kde.py:447: RuntimeWarning: invalid value encountered in less\n",
      "  X = X[np.logical_and(X > clip[0], X < clip[1])] # won't work for two columns.\n"
     ]
    },
    {
     "data": {
      "text/plain": [
       "<matplotlib.axes._subplots.AxesSubplot at 0x1c2718f3d0>"
      ]
     },
     "execution_count": 285,
     "metadata": {},
     "output_type": "execute_result"
    },
    {
     "data": {
      "image/png": "[encoded data removed]",
      "text/plain": [
       "<Figure size 432x288 with 1 Axes>"
      ]
     },
     "metadata": {},
     "output_type": "display_data"
    }
   ],
   "source": [
    "# Determine if being of a specific age range could be a result of being alive or dead\n",
    "children_lived = round(lived_df[lived_df['Age'].between(0, 12, inclusive=True)]['Age'].count()/lived_df['Age'].count() * 100)\n",
    "adolescents_lived = round(lived_df[lived_df['Age'].between(13, 17, inclusive=True)]['Age'].count()/lived_df['Age'].count() * 100)\n",
    "adults_lived = round(lived_df[lived_df['Age'].between(18, 64, inclusive=True)]['Age'].count()/lived_df['Age'].count() * 100)\n",
    "elderly_lived = round(lived_df[lived_df['Age'].between(65, 100, inclusive=True)]['Age'].count()/lived_df['Age'].count() * 100)\n",
    "children_died = round(died_df[died_df['Age'].between(0, 12, inclusive=True)]['Age'].count()/died_df['Age'].count() * 100)\n",
    "adolescents_died = round(died_df[died_df['Age'].between(13, 17, inclusive=True)]['Age'].count()/died_df['Age'].count() * 100)\n",
    "adults_died = round(died_df[died_df['Age'].between(18, 64, inclusive=True)]['Age'].count()/died_df['Age'].count() * 100)\n",
    "elderly_died = round(died_df[died_df['Age'].between(65, 100, inclusive=True)]['Age'].count()/died_df['Age'].count() * 100)\n",
    "\n",
    "# Print results\n",
    "print('% Children that lived: {};\\n% Adolescents that lived: {};\\n% Adults that lived: {};\\n% Elderly that lived: {}\\n'.format(children_lived,adolescents_lived,adults_lived, elderly_lived))\n",
    "print('% Children that died: {};\\n% Adolescents that died: {};\\n% Adults that died: {};\\n% Elderly that died: {}\\n'.format(children_died,adolescents_died,adults_died, elderly_died))\n",
    "\n",
    "# Graph age distribution of those that died of results\n",
    "sns.distplot(train_df['Age'].where(train_df['Survived'] == 0), bins=24, color='blue')\n",
    "# Graph age distribution of those that lived of results\n",
    "sns.distplot(train_df['Age'].where(train_df['Survived'] == 1), bins=24, color='red')\n"
   ]
  },
  {
   "cell_type": "code",
   "execution_count": 286,
   "metadata": {},
   "outputs": [
    {
     "name": "stdout",
     "output_type": "stream",
     "text": [
      "       Lived\n",
      "Cabin       \n",
      "A          7\n",
      "B         35\n",
      "C         35\n",
      "D         25\n",
      "E         24\n",
      "F          8\n",
      "G          2 \n",
      "\n",
      "        Died\n",
      "Cabin      \n",
      "A         8\n",
      "B        12\n",
      "C        24\n",
      "D         8\n",
      "E         8\n",
      "F         5\n",
      "G         2\n",
      "T         1\n"
     ]
    },
    {
     "data": {
      "image/png": "[encoded data removed]",
      "text/plain": [
       "<Figure size 778.45x504 with 2 Axes>"
      ]
     },
     "metadata": {},
     "output_type": "display_data"
    }
   ],
   "source": [
    "# Determine if being of a specific age range could be a result of being alive or dead\n",
    "cabin_lived = lived_df[['Cabin','Survived']].dropna().sort_values(by='Cabin').rename(columns={\"Survived\": \"Lived\"})\n",
    "cabin_died = died_df[['Cabin','Survived']].dropna().sort_values(by='Cabin').rename(columns={\"Survived\": \"Died\"})\n",
    "\n",
    "cabin_lived.groupby('Cabin').count()\n",
    "\n",
    "# Renames the cabins to their level designation (ex: 'A10' to 'A')\n",
    "cabin_levels = ['A','B','C','D','E','F','G']\n",
    "def renameCabin(df, _next=None):\n",
    "    # If _next isn't assigned\n",
    "    if _next is None: _next = 0\n",
    "    \n",
    "    # Get character\n",
    "    _character = cabin_levels[_next]\n",
    "    \n",
    "    # Change the values\n",
    "    try:\n",
    "        df = df.replace(to_replace ='^[{}].+'.format(_character), value = _character, regex = True)\n",
    "    except ValueError:\n",
    "        pass\n",
    "    \n",
    "    # Return to continue operation\n",
    "    _next += 1\n",
    "    if _next < len(cabin_levels): return renameCabin(df,_next)\n",
    "    else: return df\n",
    "\n",
    "cabin_lived = renameCabin(cabin_lived)\n",
    "cabin_died = renameCabin(cabin_died)\n",
    "train_df['Cabin'] = renameCabin(train_df['Cabin'])\n",
    "test_df['Cabin'] = renameCabin(train_df['Cabin'])\n",
    "print(cabin_lived.groupby('Cabin').count(), '\\n\\n' , cabin_died.groupby('Cabin').count())\n",
    "\n",
    "# Graph results\n",
    "g = sns.catplot(x=\"Cabin\", hue=\"Sex\", col=\"Survived\",\n",
    "                data=train_df, kind=\"count\",\n",
    "                height=7, aspect=.7);\n"
   ]
  },
  {
   "cell_type": "markdown",
   "metadata": {},
   "source": [
    "### Step 3: Preprocessing data for machine learning\n",
    "\n",
    "Before the machine learning step, variables that are set to objects must be converted to **Int** from the `train_df` dataset. Taking a look below, it would appear that `Cabin`, `Ticket`, `Embarked`, `Sex`, and `Name` are object types. Variables like `Name`, `Ticket`, and `Embarked` I am not interested in to this version of the analysis, as such they will be dropped.\n",
    "\n",
    "Once the unwanted variables are dropped I can go ahead and convert the other object-type variables to **Int**. This will be done using `sklearn` and its `LabelEncoder.fit_encoder` function to relabel the value of each variable with value between 0 and n-amount of its classes (minus 1), respectively (ex: `Sex` has two classes 'male' and 'female' => so they become `0` and `1`, respectively).\n",
    "\n",
    "Upon reviewing the variable `Cabin`, it looks like there are a **lot** of missing data points. As such, I don't feel comfortable using it for further analysis; as such, I'll have to drop it."
   ]
  },
  {
   "cell_type": "code",
   "execution_count": 287,
   "metadata": {},
   "outputs": [],
   "source": [
    "# Trying to salvage data entries with missing data points using SimpleImputer and its 'mean' functionality. This \n",
    "# allows it to take the average of the missing data column and apply it to each missing entry point within said column\n",
    "imputer = SimpleImputer(np.nan, \"mean\")\n",
    "\n",
    "# Replace NaN (missing data) using imputer in train_df\n",
    "train_df['Age'] = imputer.fit_transform(np.array(train_df['Age']).reshape(len(train_df), 1))\n",
    "train_df.Embarked.fillna(method='ffill', inplace=True)\n",
    "\n",
    "# Replace NaN (missing data) using imputer in train_df\n",
    "test_df['Age'] = imputer.fit_transform(np.array(test_df['Age']).reshape(len(test_df), 1))\n",
    "test_df.Embarked.fillna(method='ffill', inplace=True)\n",
    "test_df.Fare.fillna(method='ffill', inplace=True)\n",
    "\n",
    "# Replace NaN (missing data) using imputer in train_df\n",
    "train_df = train_df.drop(['Name', 'Ticket', 'Embarked', 'Cabin', 'Parch', 'SibSp'], axis=1)\n",
    "test_df = test_df.drop(['Name', 'Ticket', 'Embarked', 'Cabin', 'Parch', 'SibSp'], axis=1)"
   ]
  },
  {
   "cell_type": "code",
   "execution_count": 288,
   "metadata": {},
   "outputs": [
    {
     "name": "stdout",
     "output_type": "stream",
     "text": [
      "<class 'pandas.core.frame.DataFrame'>\n",
      "RangeIndex: 891 entries, 0 to 890\n",
      "Data columns (total 6 columns):\n",
      "PassengerId    891 non-null int64\n",
      "Survived       891 non-null int64\n",
      "Pclass         891 non-null int64\n",
      "Sex            891 non-null object\n",
      "Age            891 non-null float64\n",
      "Fare           891 non-null float64\n",
      "dtypes: float64(2), int64(3), object(1)\n",
      "memory usage: 41.9+ KB\n"
     ]
    }
   ],
   "source": [
    "train_df.info()"
   ]
  },
  {
   "cell_type": "code",
   "execution_count": 289,
   "metadata": {},
   "outputs": [],
   "source": [
    "# Simplified function writting\n",
    "le = LabelEncoder()\n",
    "\n",
    "# Variables to be converted from their object type to Int\n",
    "objects_cols = train_df.select_dtypes(\"object\").columns\n",
    "train_df = train_df.dropna()\n",
    "test_df = test_df.dropna()\n",
    "\n",
    "train_df[objects_cols] = train_df[objects_cols].apply(le.fit_transform)\n",
    "test_df[objects_cols] = test_df[objects_cols].apply(le.fit_transform)"
   ]
  },
  {
   "cell_type": "code",
   "execution_count": 290,
   "metadata": {},
   "outputs": [
    {
     "data": {
      "text/html": [
       "<div>\n",
       "<style scoped>\n",
       "    .dataframe tbody tr th:only-of-type {\n",
       "        vertical-align: middle;\n",
       "    }\n",
       "\n",
       "    .dataframe tbody tr th {\n",
       "        vertical-align: top;\n",
       "    }\n",
       "\n",
       "    .dataframe thead th {\n",
       "        text-align: right;\n",
       "    }\n",
       "</style>\n",
       "<table border=\"1\" class=\"dataframe\">\n",
       "  <thead>\n",
       "    <tr style=\"text-align: right;\">\n",
       "      <th></th>\n",
       "      <th>PassengerId</th>\n",
       "      <th>Survived</th>\n",
       "      <th>Pclass</th>\n",
       "      <th>Sex</th>\n",
       "      <th>Age</th>\n",
       "      <th>Fare</th>\n",
       "    </tr>\n",
       "  </thead>\n",
       "  <tbody>\n",
       "    <tr>\n",
       "      <td>0</td>\n",
       "      <td>1</td>\n",
       "      <td>0</td>\n",
       "      <td>3</td>\n",
       "      <td>1</td>\n",
       "      <td>22.000000</td>\n",
       "      <td>7.2500</td>\n",
       "    </tr>\n",
       "    <tr>\n",
       "      <td>1</td>\n",
       "      <td>2</td>\n",
       "      <td>1</td>\n",
       "      <td>1</td>\n",
       "      <td>0</td>\n",
       "      <td>38.000000</td>\n",
       "      <td>71.2833</td>\n",
       "    </tr>\n",
       "    <tr>\n",
       "      <td>2</td>\n",
       "      <td>3</td>\n",
       "      <td>1</td>\n",
       "      <td>3</td>\n",
       "      <td>0</td>\n",
       "      <td>26.000000</td>\n",
       "      <td>7.9250</td>\n",
       "    </tr>\n",
       "    <tr>\n",
       "      <td>3</td>\n",
       "      <td>4</td>\n",
       "      <td>1</td>\n",
       "      <td>1</td>\n",
       "      <td>0</td>\n",
       "      <td>35.000000</td>\n",
       "      <td>53.1000</td>\n",
       "    </tr>\n",
       "    <tr>\n",
       "      <td>4</td>\n",
       "      <td>5</td>\n",
       "      <td>0</td>\n",
       "      <td>3</td>\n",
       "      <td>1</td>\n",
       "      <td>35.000000</td>\n",
       "      <td>8.0500</td>\n",
       "    </tr>\n",
       "    <tr>\n",
       "      <td>...</td>\n",
       "      <td>...</td>\n",
       "      <td>...</td>\n",
       "      <td>...</td>\n",
       "      <td>...</td>\n",
       "      <td>...</td>\n",
       "      <td>...</td>\n",
       "    </tr>\n",
       "    <tr>\n",
       "      <td>886</td>\n",
       "      <td>887</td>\n",
       "      <td>0</td>\n",
       "      <td>2</td>\n",
       "      <td>1</td>\n",
       "      <td>27.000000</td>\n",
       "      <td>13.0000</td>\n",
       "    </tr>\n",
       "    <tr>\n",
       "      <td>887</td>\n",
       "      <td>888</td>\n",
       "      <td>1</td>\n",
       "      <td>1</td>\n",
       "      <td>0</td>\n",
       "      <td>19.000000</td>\n",
       "      <td>30.0000</td>\n",
       "    </tr>\n",
       "    <tr>\n",
       "      <td>888</td>\n",
       "      <td>889</td>\n",
       "      <td>0</td>\n",
       "      <td>3</td>\n",
       "      <td>0</td>\n",
       "      <td>29.699118</td>\n",
       "      <td>23.4500</td>\n",
       "    </tr>\n",
       "    <tr>\n",
       "      <td>889</td>\n",
       "      <td>890</td>\n",
       "      <td>1</td>\n",
       "      <td>1</td>\n",
       "      <td>1</td>\n",
       "      <td>26.000000</td>\n",
       "      <td>30.0000</td>\n",
       "    </tr>\n",
       "    <tr>\n",
       "      <td>890</td>\n",
       "      <td>891</td>\n",
       "      <td>0</td>\n",
       "      <td>3</td>\n",
       "      <td>1</td>\n",
       "      <td>32.000000</td>\n",
       "      <td>7.7500</td>\n",
       "    </tr>\n",
       "  </tbody>\n",
       "</table>\n",
       "<p>891 rows × 6 columns</p>\n",
       "</div>"
      ],
      "text/plain": [
       "     PassengerId  Survived  Pclass  Sex        Age     Fare\n",
       "0              1         0       3    1  22.000000   7.2500\n",
       "1              2         1       1    0  38.000000  71.2833\n",
       "2              3         1       3    0  26.000000   7.9250\n",
       "3              4         1       1    0  35.000000  53.1000\n",
       "4              5         0       3    1  35.000000   8.0500\n",
       "..           ...       ...     ...  ...        ...      ...\n",
       "886          887         0       2    1  27.000000  13.0000\n",
       "887          888         1       1    0  19.000000  30.0000\n",
       "888          889         0       3    0  29.699118  23.4500\n",
       "889          890         1       1    1  26.000000  30.0000\n",
       "890          891         0       3    1  32.000000   7.7500\n",
       "\n",
       "[891 rows x 6 columns]"
      ]
     },
     "execution_count": 290,
     "metadata": {},
     "output_type": "execute_result"
    }
   ],
   "source": [
    "train_df"
   ]
  },
  {
   "cell_type": "code",
   "execution_count": 291,
   "metadata": {},
   "outputs": [
    {
     "data": {
      "text/plain": [
       "<matplotlib.axes._subplots.AxesSubplot at 0x1c270773d0>"
      ]
     },
     "execution_count": 291,
     "metadata": {},
     "output_type": "execute_result"
    },
    {
     "data": {
      "image/png": "[encoded data removed]",
      "text/plain": [
       "<Figure size 1440x720 with 2 Axes>"
      ]
     },
     "metadata": {},
     "output_type": "display_data"
    }
   ],
   "source": [
    "plt.figure(figsize=(20, 10))\n",
    "plt.title('Titanic Correlation of Features', y=1.05, size=15)\n",
    "sns.heatmap(train_df.corr(), linewidths=1, vmax=1.0, \n",
    "            square=True, linecolor='white', annot=True)"
   ]
  },
  {
   "cell_type": "markdown",
   "metadata": {},
   "source": [
    "### Step 4: Train Machine Learning Models"
   ]
  },
  {
   "cell_type": "code",
   "execution_count": 292,
   "metadata": {},
   "outputs": [
    {
     "name": "stdout",
     "output_type": "stream",
     "text": [
      "Are there any NaN values left? False\n",
      "Will there be issues counting to infinity? True\n"
     ]
    }
   ],
   "source": [
    "# Removing and storing the 'Survived' variable to be set as the index for the machine learning step\n",
    "X = train_df.drop(['Survived'], 1).values # Save those that survived\n",
    "y = train_df['Survived'].values # Save those that have died\n",
    "scale = StandardScaler()\n",
    "scale.fit(X)\n",
    "X = scale.transform(X)\n",
    "\n",
    "# Split training data to 90% training data and 10% of it to self-test itself\n",
    "X_train, X_test, y_train, y_test = train_test_split(X, y, test_size=0.1, random_state=0)\n",
    "\n",
    "# Make sure that there are no NaN values left in the test or train datasets. This will cause the Machine Learning\n",
    "# models to break. \n",
    "print('Are there any NaN values left? {}'.format(np.any(np.isnan(X_train))))\n",
    "print('Will there be issues counting to infinity? {}'.format(np.all(np.isfinite(X_train))))\n",
    "\n",
    "# Class Model Idea from \"Heart Disease - Classifications\" kernel here: \n",
    "# https://www.kaggle.com/elcaiseri/heart-disease-classifications\n",
    "# This class is used to encapsulated each machine learning model providing each with extra functions such as predictions,\n",
    "# cross_validations, accuracies from the SKLearn library\n",
    "class Model:\n",
    "    \n",
    "    def __init__(self, model):\n",
    "        self.model = model\n",
    "        self.X, self.y = X, y\n",
    "        self.X_train, self.X_test, self.y_train, self.y_test = X_train, X_test, y_train, y_test\n",
    "        self.HEADER = '\\033[95m'\n",
    "        self.OKBLUE = '\\033[94m'\n",
    "        self.OKGREEN = '\\033[92m'\n",
    "        self.WARNING = '\\033[93m'\n",
    "        self.FAIL = '\\033[91m'\n",
    "        self.ENDC = '\\033[0m'\n",
    "        self.BOLD = '\\033[1m'\n",
    "        self.UNDERLINE = '\\033[4m'\n",
    "        \n",
    "        self.train()\n",
    "    \n",
    "    def model_name(self):\n",
    "        model_name = type(self.model).__name__\n",
    "        return model_name\n",
    "        \n",
    "    def cross_validation(self, cv=5):\n",
    "        print(f\"Evaluate {self.model_name()} score by cross-validation...\")\n",
    "        CVS = cross_val_score(self.model, self.X, self.y, scoring='accuracy', cv=cv)\n",
    "        print(CVS)\n",
    "        print(\"=\"*60, \"\\nMean accuracy of cross-validation: \", CVS.mean())\n",
    "        \n",
    "    def train(self):\n",
    "        print(self.HEADER+f\"\\nTraining {self.model_name()} Model...\"+self.ENDC)\n",
    "        self.model.fit(X_train, y_train)\n",
    "        print(self.OKBLUE+\"Model Trained.\"+self.ENDC)\n",
    "    \n",
    "    def prediction(self, test_x=None, test=False):\n",
    "        if test == False:\n",
    "            y_pred = self.model.predict(self.X_test)\n",
    "        else:\n",
    "            y_pred = self.model.predict(test_x)\n",
    "            \n",
    "        return y_pred\n",
    "    \n",
    "    def accuracy(self):\n",
    "        y_pred = self.prediction()\n",
    "        y_test = self.y_test\n",
    "        \n",
    "        acc = accuracy_score(y_pred, y_test)\n",
    "        print(self.OKGREEN+f\"{self.model_name()} Model Accuracy: \"+self.ENDC, acc)"
   ]
  },
  {
   "cell_type": "code",
   "execution_count": 293,
   "metadata": {
    "scrolled": true
   },
   "outputs": [
    {
     "name": "stdout",
     "output_type": "stream",
     "text": [
      "<class 'sklearn.naive_bayes.GaussianNB'>\n",
      "\u001b[95m\n",
      "Training GaussianNB Model...\u001b[0m\n",
      "\u001b[94mModel Trained.\u001b[0m\n",
      "Evaluate GaussianNB score by cross-validation...\n",
      "[0.69832402 0.79888268 0.78089888 0.75842697 0.79661017]\n",
      "============================================================ \n",
      "Mean accuracy of cross-validation:  0.7666285432197538\n",
      "\u001b[92mGaussianNB Model Accuracy: \u001b[0m 0.7777777777777778\n",
      "<class 'sklearn.svm.classes.SVC'>\n",
      "\u001b[95m\n",
      "Training SVC Model...\u001b[0m\n",
      "\u001b[94mModel Trained.\u001b[0m\n",
      "Evaluate SVC score by cross-validation...\n",
      "[0.79329609 0.80446927 0.79775281 0.78651685 0.81920904]\n",
      "============================================================ \n",
      "Mean accuracy of cross-validation:  0.8002488131195726\n",
      "\u001b[92mSVC Model Accuracy: \u001b[0m 0.7888888888888889\n",
      "<class 'sklearn.ensemble.forest.RandomForestClassifier'>\n",
      "\u001b[95m\n",
      "Training RandomForestClassifier Model...\u001b[0m\n",
      "\u001b[94mModel Trained.\u001b[0m\n",
      "Evaluate RandomForestClassifier score by cross-validation...\n"
     ]
    },
    {
     "name": "stderr",
     "output_type": "stream",
     "text": [
      "/opt/anaconda3/lib/python3.7/site-packages/sklearn/svm/base.py:193: FutureWarning: The default value of gamma will change from 'auto' to 'scale' in version 0.22 to account better for unscaled features. Set gamma explicitly to 'auto' or 'scale' to avoid this warning.\n",
      "  \"avoid this warning.\", FutureWarning)\n",
      "/opt/anaconda3/lib/python3.7/site-packages/sklearn/svm/base.py:193: FutureWarning: The default value of gamma will change from 'auto' to 'scale' in version 0.22 to account better for unscaled features. Set gamma explicitly to 'auto' or 'scale' to avoid this warning.\n",
      "  \"avoid this warning.\", FutureWarning)\n",
      "/opt/anaconda3/lib/python3.7/site-packages/sklearn/svm/base.py:193: FutureWarning: The default value of gamma will change from 'auto' to 'scale' in version 0.22 to account better for unscaled features. Set gamma explicitly to 'auto' or 'scale' to avoid this warning.\n",
      "  \"avoid this warning.\", FutureWarning)\n",
      "/opt/anaconda3/lib/python3.7/site-packages/sklearn/svm/base.py:193: FutureWarning: The default value of gamma will change from 'auto' to 'scale' in version 0.22 to account better for unscaled features. Set gamma explicitly to 'auto' or 'scale' to avoid this warning.\n",
      "  \"avoid this warning.\", FutureWarning)\n",
      "/opt/anaconda3/lib/python3.7/site-packages/sklearn/svm/base.py:193: FutureWarning: The default value of gamma will change from 'auto' to 'scale' in version 0.22 to account better for unscaled features. Set gamma explicitly to 'auto' or 'scale' to avoid this warning.\n",
      "  \"avoid this warning.\", FutureWarning)\n",
      "/opt/anaconda3/lib/python3.7/site-packages/sklearn/svm/base.py:193: FutureWarning: The default value of gamma will change from 'auto' to 'scale' in version 0.22 to account better for unscaled features. Set gamma explicitly to 'auto' or 'scale' to avoid this warning.\n",
      "  \"avoid this warning.\", FutureWarning)\n",
      "/opt/anaconda3/lib/python3.7/site-packages/sklearn/ensemble/forest.py:245: FutureWarning: The default value of n_estimators will change from 10 in version 0.20 to 100 in 0.22.\n",
      "  \"10 in version 0.20 to 100 in 0.22.\", FutureWarning)\n"
     ]
    },
    {
     "name": "stdout",
     "output_type": "stream",
     "text": [
      "[0.67039106 0.81005587 0.84831461 0.83146067 0.83615819]\n",
      "============================================================ \n",
      "Mean accuracy of cross-validation:  0.7992760800727146\n",
      "\u001b[92mRandomForestClassifier Model Accuracy: \u001b[0m 0.8\n"
     ]
    }
   ],
   "source": [
    "# Now to run the models!\n",
    "gnb = GaussianNB()\n",
    "print(type(gnb))\n",
    "gnb = Model(gnb)\n",
    "gnb.cross_validation()\n",
    "gnb.accuracy()\n",
    "\n",
    "svc = SVC()\n",
    "print(type(svc))\n",
    "svc = Model(svc)\n",
    "svc.cross_validation()\n",
    "svc.accuracy()\n",
    "\n",
    "rfc = RandomForestClassifier()\n",
    "print(type(rfc))\n",
    "rfc = Model(rfc)\n",
    "rfc.cross_validation()\n",
    "rfc.accuracy()"
   ]
  },
  {
   "cell_type": "markdown",
   "metadata": {},
   "source": [
    "### Step 5: Predict Passengers that survived the Titanic!\n",
    "\n",
    "Now with our models trained I can finally see how well they can predict who lives and dies! \n",
    "\n",
    "Each of the tested models will have their data saved in their respective .csv files and then submitted to the Kaggle competition."
   ]
  },
  {
   "cell_type": "code",
   "execution_count": 294,
   "metadata": {},
   "outputs": [],
   "source": [
    "# Setup the testing parameters!\n",
    "test_X = test_df.values\n",
    "test_X = scale.transform(test_X)\n",
    "\n",
    "gnb_pred = gnb.prediction(test_x=test_X, test=True)\n",
    "svc_pred = svc.prediction(test_x=test_X, test=True)\n",
    "rfc_pred = rfc.prediction(test_x=test_X, test=True)"
   ]
  },
  {
   "cell_type": "code",
   "execution_count": 295,
   "metadata": {},
   "outputs": [],
   "source": [
    "# Saving GaussianNB model results\n",
    "submission_file['Survived'] = gnb_pred\n",
    "submission_file.to_csv('gnb_submission.csv', index=False)\n",
    "\n",
    "# Saving SVC model results\n",
    "submission_file['Survived'] = svc_pred\n",
    "submission_file.to_csv('svc_submission.csv', index=False)\n",
    "\n",
    "# Saving RandomForrestClassifier model results\n",
    "submission_file['Survived'] = rfc_pred\n",
    "submission_file.to_csv('rfc_submission.csv', index=False)"
   ]
  },
  {
   "cell_type": "code",
   "execution_count": null,
   "metadata": {},
   "outputs": [],
   "source": []
  }
 ],
 "metadata": {
  "kernelspec": {
   "display_name": "Python 3",
   "language": "python",
   "name": "python3"
  },
  "language_info": {
   "codemirror_mode": {
    "name": "ipython",
    "version": 3
   },
   "file_extension": ".py",
   "mimetype": "text/x-python",
   "name": "python",
   "nbconvert_exporter": "python",
   "pygments_lexer": "ipython3",
   "version": "3.7.4"
  }
 },
 "nbformat": 4,
 "nbformat_minor": 2
}
